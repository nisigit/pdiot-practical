{
 "cells": [
  {
   "cell_type": "code",
   "execution_count": 6,
   "metadata": {},
   "outputs": [],
   "source": [
    "import pandas as pd\n",
    "import os\n",
    "import matplotlib.pyplot as plt\n",
    "import pandas as pd\n",
    "import numpy as np\n",
    "import pickle\n",
    "import matplotlib.pyplot as plt\n",
    "from scipy import stats\n",
    "import tensorflow as tf\n",
    "import seaborn as sns\n",
    "from pylab import rcParams\n",
    "from sklearn import metrics\n",
    "from sklearn.model_selection import train_test_split"
   ]
  },
  {
   "cell_type": "code",
   "execution_count": 7,
   "metadata": {},
   "outputs": [],
   "source": [
    "data_dir = os.path.join(os.getcwd(), '../../pdiot-data/2023/')\n",
    "s2100273 = os.path.join(data_dir, 's2100273')\n",
    "s2100273_files = [file for file in os.listdir(s2100273) if \"Respeck\" in file and \"clean\" in file and file.endswith(\".csv\")]"
   ]
  },
  {
   "cell_type": "code",
   "execution_count": 8,
   "metadata": {},
   "outputs": [],
   "source": [
    "cols = ['accel_x', 'accel_y', 'accel_z', 'gyro_x', 'gyro_y', 'gyro_z', 'activity']\n",
    "all_data = os.path.join(os.getcwd(), 'train_data.csv')\n",
    "pd.DataFrame(columns=cols).to_csv(all_data, mode='w', header=True, index=False)"
   ]
  },
  {
   "cell_type": "code",
   "execution_count": 9,
   "metadata": {},
   "outputs": [],
   "source": [
    "for file in s2100273_files:\n",
    "    df = pd.read_csv(os.path.join(s2100273, file))\n",
    "    act, subact = file.split('_')[2:4]\n",
    "    df['activity'] = pd.Series(f\"{act} {subact}\", index=df.index)\n",
    "    df = df[cols]\n",
    "    df.to_csv(all_data, mode='a', header=False, index=False)"
   ]
  },
  {
   "cell_type": "code",
   "execution_count": 10,
   "metadata": {},
   "outputs": [],
   "source": [
    "random_seed = 42\n",
    "n_time_steps = 50\n",
    "n_features = 6\n",
    "step = 10\n",
    "n_epochs = 40\n",
    "batch_size = 64\n",
    "learning_rate = 0.0025\n",
    "l2_loss = 0.0015\n",
    "\n",
    "segments = []\n",
    "labels = []"
   ]
  },
  {
   "cell_type": "code",
   "execution_count": 11,
   "metadata": {},
   "outputs": [
    {
     "name": "stderr",
     "output_type": "stream",
     "text": [
      "/var/folders/1w/ty9_z0y12r72xymhb930rg9h0000gn/T/ipykernel_12342/366934639.py:10: FutureWarning: Unlike other reduction functions (e.g. `skew`, `kurtosis`), the default behavior of `mode` typically preserves the axis it acts along. In SciPy 1.11.0, this behavior will change: the default value of `keepdims` will become False, the `axis` over which the statistic is taken will be eliminated, and the value None will no longer be accepted. Set `keepdims` to True or False to avoid this warning.\n",
      "  label = stats.mode(df['activity'][i: i + n_time_steps])[0][0]\n",
      "/var/folders/1w/ty9_z0y12r72xymhb930rg9h0000gn/T/ipykernel_12342/366934639.py:10: DeprecationWarning: Support for non-numeric arrays has been deprecated as of SciPy 1.9.0 and will be removed in 1.11.0. `pandas.DataFrame.mode` can be used instead, see https://pandas.pydata.org/docs/reference/api/pandas.DataFrame.mode.html.\n",
      "  label = stats.mode(df['activity'][i: i + n_time_steps])[0][0]\n"
     ]
    }
   ],
   "source": [
    "df = pd.read_csv(all_data)\n",
    "\n",
    "for i in range(0, len(df) - n_time_steps, step):\n",
    "    xs = df['accel_x'].values[i: i + n_time_steps]\n",
    "    ys = df['accel_y'].values[i: i + n_time_steps]\n",
    "    zs = df['accel_z'].values[i: i + n_time_steps]\n",
    "    gx = df['gyro_x'].values[i: i + n_time_steps]\n",
    "    gy = df['gyro_y'].values[i: i + n_time_steps]\n",
    "    gz = df['gyro_z'].values[i: i + n_time_steps]\n",
    "    label = stats.mode(df['activity'][i: i + n_time_steps])[0][0]\n",
    "    segments.append([xs, ys, zs, gx, gy, gz])\n",
    "    labels.append(label)"
   ]
  },
  {
   "cell_type": "code",
   "execution_count": 12,
   "metadata": {},
   "outputs": [
    {
     "data": {
      "text/plain": [
       "((3338, 6, 50), (3338,))"
      ]
     },
     "execution_count": 12,
     "metadata": {},
     "output_type": "execute_result"
    }
   ],
   "source": [
    "np.array(segments).shape, np.array(labels).shape"
   ]
  },
  {
   "cell_type": "code",
   "execution_count": 13,
   "metadata": {},
   "outputs": [],
   "source": [
    "reshaped_segments = np.asarray(segments, dtype= np.float32).reshape(-1, n_time_steps, n_features)\n",
    "\n",
    "labels = np.asarray(pd.get_dummies(labels), dtype = np.float32)"
   ]
  },
  {
   "cell_type": "code",
   "execution_count": 14,
   "metadata": {},
   "outputs": [
    {
     "data": {
      "text/plain": [
       "(3338, 50, 6)"
      ]
     },
     "execution_count": 14,
     "metadata": {},
     "output_type": "execute_result"
    }
   ],
   "source": [
    "reshaped_segments.shape"
   ]
  },
  {
   "cell_type": "code",
   "execution_count": 15,
   "metadata": {},
   "outputs": [],
   "source": [
    "x_train, x_test, y_train, y_test = train_test_split(reshaped_segments, labels, test_size=0.2, random_state=random_seed)"
   ]
  },
  {
   "cell_type": "code",
   "execution_count": 16,
   "metadata": {},
   "outputs": [
    {
     "data": {
      "text/plain": [
       "((2670, 50, 6), (2670, 44), (668, 50, 6), (668, 44))"
      ]
     },
     "execution_count": 16,
     "metadata": {},
     "output_type": "execute_result"
    }
   ],
   "source": [
    "x_train.shape, y_train.shape, x_test.shape, y_test.shape"
   ]
  },
  {
   "cell_type": "code",
   "execution_count": 17,
   "metadata": {},
   "outputs": [],
   "source": [
    "from tensorflow import keras\n",
    "from keras import Sequential\n",
    "from keras.layers import LSTM, Dense, Dropout, Flatten"
   ]
  },
  {
   "cell_type": "code",
   "execution_count": 18,
   "metadata": {},
   "outputs": [],
   "source": [
    "model = Sequential()\n",
    "model.add(LSTM(100, input_shape=(n_time_steps, n_features)))\n",
    "model.add(Dropout(0.5))\n",
    "model.add(Dense(100, activation='relu'))\n",
    "model.add(Dense(44, activation='softmax'))\n",
    "model.compile(loss='categorical_crossentropy', optimizer='adam', metrics=['accuracy'])"
   ]
  },
  {
   "cell_type": "code",
   "execution_count": 19,
   "metadata": {},
   "outputs": [
    {
     "name": "stdout",
     "output_type": "stream",
     "text": [
      "Model: \"sequential\"\n",
      "_________________________________________________________________\n",
      " Layer (type)                Output Shape              Param #   \n",
      "=================================================================\n",
      " lstm (LSTM)                 (None, 100)               42800     \n",
      "                                                                 \n",
      " dropout (Dropout)           (None, 100)               0         \n",
      "                                                                 \n",
      " dense (Dense)               (None, 100)               10100     \n",
      "                                                                 \n",
      " dense_1 (Dense)             (None, 44)                4444      \n",
      "                                                                 \n",
      "=================================================================\n",
      "Total params: 57344 (224.00 KB)\n",
      "Trainable params: 57344 (224.00 KB)\n",
      "Non-trainable params: 0 (0.00 Byte)\n",
      "_________________________________________________________________\n"
     ]
    }
   ],
   "source": [
    "model.summary()"
   ]
  },
  {
   "cell_type": "code",
   "execution_count": 20,
   "metadata": {},
   "outputs": [
    {
     "name": "stdout",
     "output_type": "stream",
     "text": [
      "Epoch 1/40\n",
      "42/42 [==============================] - 2s 29ms/step - loss: 3.6969 - accuracy: 0.0513 - val_loss: 3.4697 - val_accuracy: 0.0883\n",
      "Epoch 2/40\n",
      "42/42 [==============================] - 1s 25ms/step - loss: 3.1994 - accuracy: 0.0959 - val_loss: 2.8589 - val_accuracy: 0.1347\n",
      "Epoch 3/40\n",
      "42/42 [==============================] - 1s 24ms/step - loss: 2.7502 - accuracy: 0.1640 - val_loss: 2.4702 - val_accuracy: 0.2350\n",
      "Epoch 4/40\n",
      "42/42 [==============================] - 1s 25ms/step - loss: 2.3157 - accuracy: 0.2715 - val_loss: 1.9316 - val_accuracy: 0.3413\n",
      "Epoch 5/40\n",
      "42/42 [==============================] - 1s 24ms/step - loss: 1.8840 - accuracy: 0.3427 - val_loss: 1.6400 - val_accuracy: 0.4326\n",
      "Epoch 6/40\n",
      "42/42 [==============================] - 1s 25ms/step - loss: 1.6556 - accuracy: 0.4045 - val_loss: 1.3878 - val_accuracy: 0.5120\n",
      "Epoch 7/40\n",
      "42/42 [==============================] - 1s 25ms/step - loss: 1.4788 - accuracy: 0.4592 - val_loss: 1.2458 - val_accuracy: 0.5389\n",
      "Epoch 8/40\n",
      "42/42 [==============================] - 1s 24ms/step - loss: 1.4207 - accuracy: 0.4730 - val_loss: 1.1617 - val_accuracy: 0.5704\n",
      "Epoch 9/40\n",
      "42/42 [==============================] - 1s 24ms/step - loss: 1.2181 - accuracy: 0.5333 - val_loss: 1.0443 - val_accuracy: 0.5734\n",
      "Epoch 10/40\n",
      "42/42 [==============================] - 1s 24ms/step - loss: 1.0906 - accuracy: 0.5757 - val_loss: 0.9809 - val_accuracy: 0.6078\n",
      "Epoch 11/40\n",
      "42/42 [==============================] - 1s 25ms/step - loss: 1.0577 - accuracy: 0.5865 - val_loss: 0.9223 - val_accuracy: 0.6422\n",
      "Epoch 12/40\n",
      "42/42 [==============================] - 1s 25ms/step - loss: 0.9980 - accuracy: 0.6195 - val_loss: 0.8733 - val_accuracy: 0.6602\n",
      "Epoch 13/40\n",
      "42/42 [==============================] - 1s 28ms/step - loss: 0.9059 - accuracy: 0.6315 - val_loss: 0.7862 - val_accuracy: 0.6946\n",
      "Epoch 14/40\n",
      "42/42 [==============================] - 1s 26ms/step - loss: 0.8894 - accuracy: 0.6498 - val_loss: 0.7191 - val_accuracy: 0.7126\n",
      "Epoch 15/40\n",
      "42/42 [==============================] - 1s 25ms/step - loss: 0.8060 - accuracy: 0.6820 - val_loss: 0.6804 - val_accuracy: 0.7515\n",
      "Epoch 16/40\n",
      "42/42 [==============================] - 1s 24ms/step - loss: 0.7886 - accuracy: 0.6839 - val_loss: 0.7382 - val_accuracy: 0.6751\n",
      "Epoch 17/40\n",
      "42/42 [==============================] - 1s 25ms/step - loss: 0.7171 - accuracy: 0.7090 - val_loss: 0.6556 - val_accuracy: 0.7380\n",
      "Epoch 18/40\n",
      "42/42 [==============================] - 1s 24ms/step - loss: 0.6627 - accuracy: 0.7371 - val_loss: 0.5581 - val_accuracy: 0.7844\n",
      "Epoch 19/40\n",
      "42/42 [==============================] - 1s 24ms/step - loss: 0.5993 - accuracy: 0.7614 - val_loss: 0.6227 - val_accuracy: 0.7740\n",
      "Epoch 20/40\n",
      "42/42 [==============================] - 1s 24ms/step - loss: 0.5527 - accuracy: 0.7787 - val_loss: 0.5240 - val_accuracy: 0.8084\n",
      "Epoch 21/40\n",
      "42/42 [==============================] - 1s 25ms/step - loss: 0.5267 - accuracy: 0.7963 - val_loss: 0.5499 - val_accuracy: 0.7725\n",
      "Epoch 22/40\n",
      "42/42 [==============================] - 1s 24ms/step - loss: 0.5984 - accuracy: 0.7603 - val_loss: 0.6526 - val_accuracy: 0.7605\n",
      "Epoch 23/40\n",
      "42/42 [==============================] - 1s 25ms/step - loss: 0.5440 - accuracy: 0.7839 - val_loss: 0.5219 - val_accuracy: 0.8024\n",
      "Epoch 24/40\n",
      "42/42 [==============================] - 1s 25ms/step - loss: 0.5248 - accuracy: 0.7891 - val_loss: 0.5293 - val_accuracy: 0.8293\n",
      "Epoch 25/40\n",
      "42/42 [==============================] - 1s 25ms/step - loss: 0.4451 - accuracy: 0.8285 - val_loss: 0.4528 - val_accuracy: 0.8263\n",
      "Epoch 26/40\n",
      "42/42 [==============================] - 1s 24ms/step - loss: 0.4113 - accuracy: 0.8408 - val_loss: 0.4517 - val_accuracy: 0.8668\n",
      "Epoch 27/40\n",
      "42/42 [==============================] - 1s 24ms/step - loss: 0.4583 - accuracy: 0.8307 - val_loss: 0.6332 - val_accuracy: 0.7919\n",
      "Epoch 28/40\n",
      "42/42 [==============================] - 1s 25ms/step - loss: 0.4516 - accuracy: 0.8258 - val_loss: 0.4351 - val_accuracy: 0.8533\n",
      "Epoch 29/40\n",
      "42/42 [==============================] - 1s 25ms/step - loss: 0.3696 - accuracy: 0.8581 - val_loss: 0.4372 - val_accuracy: 0.8458\n",
      "Epoch 30/40\n",
      "42/42 [==============================] - 1s 26ms/step - loss: 0.3547 - accuracy: 0.8599 - val_loss: 0.5934 - val_accuracy: 0.7889\n",
      "Epoch 31/40\n",
      "42/42 [==============================] - 1s 25ms/step - loss: 0.3697 - accuracy: 0.8603 - val_loss: 0.5211 - val_accuracy: 0.8488\n",
      "Epoch 32/40\n",
      "42/42 [==============================] - 1s 25ms/step - loss: 0.4069 - accuracy: 0.8521 - val_loss: 0.5590 - val_accuracy: 0.8069\n",
      "Epoch 33/40\n",
      "42/42 [==============================] - 1s 24ms/step - loss: 0.3885 - accuracy: 0.8558 - val_loss: 0.4402 - val_accuracy: 0.8548\n",
      "Epoch 34/40\n",
      "42/42 [==============================] - 1s 24ms/step - loss: 0.3062 - accuracy: 0.8801 - val_loss: 0.4878 - val_accuracy: 0.8578\n",
      "Epoch 35/40\n",
      "42/42 [==============================] - 1s 24ms/step - loss: 0.3285 - accuracy: 0.8816 - val_loss: 0.4508 - val_accuracy: 0.8503\n",
      "Epoch 36/40\n",
      "42/42 [==============================] - 1s 25ms/step - loss: 0.3687 - accuracy: 0.8637 - val_loss: 0.4793 - val_accuracy: 0.8263\n",
      "Epoch 37/40\n",
      "42/42 [==============================] - 1s 24ms/step - loss: 0.3740 - accuracy: 0.8610 - val_loss: 0.4376 - val_accuracy: 0.8458\n",
      "Epoch 38/40\n",
      "42/42 [==============================] - 1s 24ms/step - loss: 0.3014 - accuracy: 0.8813 - val_loss: 0.3995 - val_accuracy: 0.8802\n",
      "Epoch 39/40\n",
      "42/42 [==============================] - 1s 25ms/step - loss: 0.3071 - accuracy: 0.8787 - val_loss: 0.4748 - val_accuracy: 0.8488\n",
      "Epoch 40/40\n",
      "42/42 [==============================] - 1s 25ms/step - loss: 0.3038 - accuracy: 0.8839 - val_loss: 0.3857 - val_accuracy: 0.8713\n"
     ]
    },
    {
     "data": {
      "text/plain": [
       "<keras.src.callbacks.History at 0x290202c40>"
      ]
     },
     "execution_count": 20,
     "metadata": {},
     "output_type": "execute_result"
    }
   ],
   "source": [
    "model.fit(x_train, y_train, epochs=n_epochs, batch_size=batch_size, verbose=1, validation_data=(x_test, y_test))"
   ]
  },
  {
   "cell_type": "code",
   "execution_count": 21,
   "metadata": {},
   "outputs": [
    {
     "name": "stdout",
     "output_type": "stream",
     "text": [
      "21/21 [==============================] - 0s 6ms/step - loss: 0.3857 - accuracy: 0.8713\n"
     ]
    },
    {
     "data": {
      "text/plain": [
       "[0.385733962059021, 0.871257483959198]"
      ]
     },
     "execution_count": 21,
     "metadata": {},
     "output_type": "execute_result"
    }
   ],
   "source": [
    "model.evaluate(x_test, y_test)"
   ]
  },
  {
   "cell_type": "code",
   "execution_count": 105,
   "metadata": {},
   "outputs": [
    {
     "name": "stderr",
     "output_type": "stream",
     "text": [
      "/Users/nisiman/miniconda3/envs/pdiot/lib/python3.8/site-packages/keras/src/engine/training.py:3000: UserWarning: You are saving your model as an HDF5 file via `model.save()`. This file format is considered legacy. We recommend using instead the native Keras format, e.g. `model.save('my_model.keras')`.\n",
      "  saving_api.save_model(\n"
     ]
    }
   ],
   "source": [
    "# save model\n",
    "model.save('model.h5')"
   ]
  },
  {
   "cell_type": "code",
   "execution_count": 23,
   "metadata": {},
   "outputs": [
    {
     "name": "stdout",
     "output_type": "stream",
     "text": [
      "INFO:tensorflow:Assets written to: /var/folders/1w/ty9_z0y12r72xymhb930rg9h0000gn/T/tmpo1_a5wvh/assets\n"
     ]
    },
    {
     "name": "stderr",
     "output_type": "stream",
     "text": [
      "INFO:tensorflow:Assets written to: /var/folders/1w/ty9_z0y12r72xymhb930rg9h0000gn/T/tmpo1_a5wvh/assets\n",
      "2023-10-16 11:55:22.019796: W tensorflow/compiler/mlir/lite/python/tf_tfl_flatbuffer_helpers.cc:364] Ignored output_format.\n",
      "2023-10-16 11:55:22.019814: W tensorflow/compiler/mlir/lite/python/tf_tfl_flatbuffer_helpers.cc:367] Ignored drop_control_dependency.\n",
      "2023-10-16 11:55:22.020020: I tensorflow/cc/saved_model/reader.cc:45] Reading SavedModel from: /var/folders/1w/ty9_z0y12r72xymhb930rg9h0000gn/T/tmpo1_a5wvh\n",
      "2023-10-16 11:55:22.024856: I tensorflow/cc/saved_model/reader.cc:91] Reading meta graph with tags { serve }\n",
      "2023-10-16 11:55:22.024869: I tensorflow/cc/saved_model/reader.cc:132] Reading SavedModel debug info (if present) from: /var/folders/1w/ty9_z0y12r72xymhb930rg9h0000gn/T/tmpo1_a5wvh\n",
      "2023-10-16 11:55:22.040941: I tensorflow/cc/saved_model/loader.cc:231] Restoring SavedModel bundle.\n",
      "2023-10-16 11:55:22.093934: I tensorflow/cc/saved_model/loader.cc:215] Running initialization op on SavedModel bundle at path: /var/folders/1w/ty9_z0y12r72xymhb930rg9h0000gn/T/tmpo1_a5wvh\n",
      "2023-10-16 11:55:22.124115: I tensorflow/cc/saved_model/loader.cc:314] SavedModel load for tags { serve }; Status: success: OK. Took 104104 microseconds.\n",
      "2023-10-16 11:55:22.233572: W tensorflow/compiler/mlir/lite/flatbuffer_export.cc:2073] TFLite interpreter needs to link Flex delegate in order to run the model since it contains the following Select TFop(s):\n",
      "Flex ops: FlexTensorListReserve, FlexTensorListSetItem, FlexTensorListStack\n",
      "Details:\n",
      "\ttf.TensorListReserve(tensor<2xi32>, tensor<i32>) -> (tensor<!tf_type.variant<tensor<?x100xf32>>>) : {device = \"\"}\n",
      "\ttf.TensorListSetItem(tensor<!tf_type.variant<tensor<?x100xf32>>>, tensor<i32>, tensor<?x100xf32>) -> (tensor<!tf_type.variant<tensor<?x100xf32>>>) : {device = \"\", resize_if_index_out_of_bounds = false}\n",
      "\ttf.TensorListStack(tensor<!tf_type.variant<tensor<?x100xf32>>>, tensor<2xi32>) -> (tensor<1x?x100xf32>) : {device = \"\", num_elements = 1 : i64}\n",
      "See instructions: https://www.tensorflow.org/lite/guide/ops_select\n"
     ]
    }
   ],
   "source": [
    "converter = tf.lite.TFLiteConverter.from_keras_model(model)\n",
    "converter.target_spec.supported_ops = [\n",
    "  tf.lite.OpsSet.TFLITE_BUILTINS, # enable TensorFlow Lite ops.\n",
    "  tf.lite.OpsSet.SELECT_TF_OPS # enable TensorFlow ops.\n",
    "]\n",
    "tflite_model = converter.convert()\n",
    "\n",
    "# save tflite model\n",
    "with open('model.tflite', 'wb') as f:\n",
    "    f.write(tflite_model)"
   ]
  },
  {
   "cell_type": "code",
   "execution_count": 55,
   "metadata": {},
   "outputs": [
    {
     "name": "stdout",
     "output_type": "stream",
     "text": [
      "[[1.78167429e-11 5.00601340e-12 8.55394922e-12 3.20882833e-07\n",
      "  1.08917445e-10 2.78121831e-07 4.69179984e-09 2.55874767e-07\n",
      "  3.86373540e-06 2.10077880e-04 5.05074038e-10 3.95354582e-05\n",
      "  7.89643964e-05 1.03025577e-07 1.12495329e-07 2.25265362e-09\n",
      "  3.47531341e-07 1.19865762e-08 4.11333900e-07 2.72709570e-08\n",
      "  3.17692747e-12 1.22776303e-10 3.10728630e-11 1.44265278e-09\n",
      "  3.17306430e-08 1.72088876e-09 9.37989061e-11 3.31047689e-12\n",
      "  8.53468598e-12 2.45209547e-11 4.86611836e-12 7.22961485e-01\n",
      "  1.40677642e-07 1.18793420e-10 3.04056230e-05 2.14458734e-01\n",
      "  6.08106367e-02 1.53306778e-09 1.10842451e-03 2.05766391e-08\n",
      "  6.39469420e-07 2.09905465e-06 2.35933054e-04 5.71638557e-05]]\n"
     ]
    }
   ],
   "source": [
    "# Load the TFLite model and allocate tensors.\n",
    "interpreter = tf.lite.Interpreter(model_path=\"model.tflite\")\n",
    "interpreter.allocate_tensors()\n",
    "\n",
    "# Get input and output tensors\n",
    "input_details = interpreter.get_input_details()\n",
    "output_details = interpreter.get_output_details()\n",
    "\n",
    "# Test the model on one instance\n",
    "interpreter.set_tensor(input_details[0]['index'], x_test[0:1])\n",
    "interpreter.invoke()\n",
    "output_data = interpreter.get_tensor(output_details[0]['index'])\n",
    "print(output_data)"
   ]
  },
  {
   "cell_type": "code",
   "execution_count": 56,
   "metadata": {},
   "outputs": [
    {
     "name": "stdout",
     "output_type": "stream",
     "text": [
      "Test accuracy: 0.8712574850299402\n"
     ]
    }
   ],
   "source": [
    "correct_predictions = 0\n",
    "total_predictions = 0\n",
    "\n",
    "for i in range(len(x_test)):\n",
    "    interpreter.set_tensor(input_details[0]['index'], x_test[i:i+1])\n",
    "    interpreter.invoke()\n",
    "    output_data = interpreter.get_tensor(output_details[0]['index'])\n",
    "    total_predictions += 1\n",
    "    if np.argmax(output_data) == np.argmax(y_test[i]):\n",
    "        correct_predictions += 1\n",
    "\n",
    "accuracy = correct_predictions / total_predictions\n",
    "print('Test accuracy:', accuracy)"
   ]
  },
  {
   "cell_type": "code",
   "execution_count": null,
   "metadata": {},
   "outputs": [],
   "source": []
  }
 ],
 "metadata": {
  "kernelspec": {
   "display_name": "pdiot",
   "language": "python",
   "name": "python3"
  },
  "language_info": {
   "codemirror_mode": {
    "name": "ipython",
    "version": 3
   },
   "file_extension": ".py",
   "mimetype": "text/x-python",
   "name": "python",
   "nbconvert_exporter": "python",
   "pygments_lexer": "ipython3",
   "version": "3.8.18"
  }
 },
 "nbformat": 4,
 "nbformat_minor": 2
}
